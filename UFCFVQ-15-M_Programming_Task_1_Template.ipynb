{
 "cells": [
  {
   "cell_type": "markdown",
   "metadata": {},
   "source": [
    "# UFCFVQ-15-M Programming for Data Science (Autumn 2021)\n",
    "# Programming Task 1\n",
    "\n",
    "## Student Id: 21062743"
   ]
  },
  {
   "cell_type": "markdown",
   "metadata": {
    "deletable": false
   },
   "source": [
    "<p style=\"color:red; font-weight:bold; font-size:xx-small\">OVERALL COURSEWORK MARK: ___%</p>"
   ]
  },
  {
   "cell_type": "markdown",
   "metadata": {
    "deletable": false
   },
   "source": [
    "### Requirement FR1 - Develop a function to find the arithmetic mean"
   ]
  },
  {
   "cell_type": "code",
   "execution_count": 1,
   "metadata": {},
   "outputs": [
    {
     "name": "stdout",
     "output_type": "stream",
     "text": [
      "Arithmatic Mean Is :  15.333333333333334\n"
     ]
    }
   ],
   "source": [
    "#Creating a list of given data\n",
    "list=[6, 2, 22, 21, 24, 23, 8, 9, 5, 3, 11, 28, 14, 13, 12, 26, 29, 16, 15, 20, 25, 1, 10, 18, 27, 19, 7]\n",
    "\n",
    "#Define function for calculating Mean of defined list\n",
    "def arithmatic_mean(list):\n",
    "    summ = 0 \n",
    "    counter=0\n",
    "    for n in list:\n",
    "        \n",
    "        #logic for arithmatic_mean\n",
    "        summ += n\n",
    "        counter+=1\n",
    "    return summ/counter    \n",
    "\n",
    "#function calling arithmatic_mean\n",
    "print(\"Arithmatic Mean Is : \",arithmatic_mean(list))"
   ]
  },
  {
   "cell_type": "markdown",
   "metadata": {
    "deletable": false
   },
   "source": [
    "<p style=\"color:red; font-weight:bold; font-size:xx-small\">MARK: __%</p>\n",
    "<p style=\"color:red; font-weight:bold; font-size:xx-small\">FEEDBACK: </p>"
   ]
  },
  {
   "cell_type": "markdown",
   "metadata": {
    "deletable": false
   },
   "source": [
    "### Requirement FR2 - Develop a function to find the standard deviation"
   ]
  },
  {
   "cell_type": "code",
   "execution_count": 13,
   "metadata": {},
   "outputs": [
    {
     "name": "stdout",
     "output_type": "stream",
     "text": [
      "Standard Deviation Is :  8.393118874676114\n"
     ]
    }
   ],
   "source": [
    "#Creating list for given data\n",
    "list=[6, 2, 22, 21, 24, 23, 8, 9, 5, 3, 11, 28, 14, 13, 12, 26, 29, 16, 15, 20, 25, 1, 10, 18, 27, 19, 7]\n",
    "\n",
    "#\n",
    "def arithmatic_mean(list):\n",
    "    summation = 0 \n",
    "    counter=0\n",
    "    for i in list:\n",
    "        summation += i\n",
    "        counter+=1\n",
    "    return summation/counter\n",
    "\n",
    "def st_deviation(list):\n",
    "    # Get the mean of the list\n",
    "    #mean_data = arithmatic_mean(list)\n",
    "    summation = 0 \n",
    "    counter=0\n",
    "    for i in list:\n",
    "        summation += i\n",
    "        counter+=1\n",
    "        mean_data=summation/counter\n",
    "    # Subtract the mean from each item and square the result\n",
    "    # Take the mean from the resulting list\n",
    "    m_of_sqrd = arithmatic_mean([(i-mean_data)**2 for i in list])\n",
    "    # Return the root \n",
    "    return m_of_sqrd ** 0.5\n",
    "\n",
    "print(\"Standard Deviation Is : \",st_deviation(list))"
   ]
  },
  {
   "cell_type": "markdown",
   "metadata": {
    "deletable": false
   },
   "source": [
    "<p style=\"color:red; font-weight:bold; font-size:xx-small\">MARK: __%</p>\n",
    "<p style=\"color:red; font-weight:bold; font-size:xx-small\">FEEDBACK: </p>"
   ]
  },
  {
   "cell_type": "markdown",
   "metadata": {
    "deletable": false
   },
   "source": [
    "### Requirement FR3 - Develop a function to find the min/max values and count "
   ]
  },
  {
   "cell_type": "code",
   "execution_count": 414,
   "metadata": {},
   "outputs": [
    {
     "name": "stdout",
     "output_type": "stream",
     "text": [
      "Largest number =29\n",
      "Smallest Number=0\n",
      "Total Value is=27\n"
     ]
    }
   ],
   "source": [
    "List = [6, 2, 22, 21, 24, 23, 8, 9, 5, 3, 11, 28, 14, 13, 12, 26, 29, 16, 15, 20, 25, 1, 10, 18, 27, 19, 7]\n",
    "def max_min_count(list):\n",
    "    Max = 0\n",
    "    Min = 0\n",
    "    counter = 0\n",
    "    for item in list:\n",
    "        counter+=1\n",
    "        if item > Max:\n",
    "            Max=item\n",
    "        elif item < Min:\n",
    "            Min=item\n",
    "    return \"Largest number =\"+ str(Max) +\"\\n\"+ \"Smallest Number=\"+str(Min) +\"\\n\"+\"Total Value is=\"+str(counter)\n",
    "\n",
    "print(max_min_count(List))"
   ]
  },
  {
   "cell_type": "markdown",
   "metadata": {
    "deletable": false
   },
   "source": [
    "<p style=\"color:red; font-weight:bold; font-size:xx-small\">MARK: __%</p>\n",
    "<p style=\"color:red; font-weight:bold; font-size:xx-small\">FEEDBACK: </p>"
   ]
  },
  {
   "cell_type": "markdown",
   "metadata": {
    "deletable": false
   },
   "source": [
    "### Requirement FR4 - Develop a function to find the 25th, 50th and 75th percentiles "
   ]
  },
  {
   "cell_type": "code",
   "execution_count": 415,
   "metadata": {},
   "outputs": [
    {
     "name": "stdout",
     "output_type": "stream",
     "text": [
      "[1, 2, 3, 5, 6, 7, 8, 9, 10, 11, 12, 13, 14, 15, 16, 18, 19, 20, 21, 22, 23, 24, 25, 26, 27, 28, 29]\n",
      "9\n",
      "16\n",
      "23\n"
     ]
    }
   ],
   "source": [
    "List= [6, 2, 22, 21, 24, 23, 8, 9, 5, 3, 11, 28, 14, 13, 12, 26, 29, 16, 15, 20, 25, 1, 10, 18, 27, 19, 7]\n",
    "Q1=25\n",
    "Q2=50\n",
    "Q3=75\n",
    "\n",
    "#Ascending order data\n",
    "length=0\n",
    "for i in List:\n",
    "    length+=1  \n",
    "for i in range(length):\n",
    "    for j in range(i + 1, length):\n",
    "        if List[i] > List[j]:\n",
    "           List[i], List[j] = List[j], List[i]\n",
    "print(List)\n",
    "def percentile(List,Q1):\n",
    "    rank=Q1/100\n",
    "    percentile=rank*27\n",
    "    whole_p=round(percentile)\n",
    "    for i in List:\n",
    "        if i==whole_p:\n",
    "            return List[i]\n",
    "print(percentile(List,25))\n",
    "print(percentile(List,50))\n",
    "print(percentile(List,75))"
   ]
  },
  {
   "cell_type": "markdown",
   "metadata": {
    "deletable": false
   },
   "source": [
    "<p style=\"color:red; font-weight:bold; font-size:xx-small\">MARK: __%</p>\n",
    "<p style=\"color:red; font-weight:bold; font-size:xx-small\">FEEDBACK: </p>"
   ]
  },
  {
   "cell_type": "markdown",
   "metadata": {
    "deletable": false
   },
   "source": [
    "### Requirement FR5 - Develop a function to read a single column from a CSV file"
   ]
  },
  {
   "cell_type": "code",
   "execution_count": 2,
   "metadata": {},
   "outputs": [
    {
     "name": "stdout",
     "output_type": "stream",
     "text": [
      "Enter File Name : task2a.csv\n",
      "Enter Column Number :0\n",
      "region\n",
      "1\n",
      "2\n",
      "3\n",
      "4\n",
      "5\n",
      "6\n",
      "7\n",
      "8\n",
      "9\n",
      "10\n",
      "11\n",
      "12\n",
      "13\n",
      "14\n",
      "15\n",
      "16\n",
      "17\n",
      "18\n",
      "19\n",
      "20\n",
      "21\n",
      "22\n",
      "23\n",
      "24\n",
      "25\n",
      "26\n",
      "27\n",
      "28\n",
      "29\n",
      "30\n",
      "31\n",
      "32\n",
      "33\n",
      "34\n",
      "35\n",
      "36\n",
      "37\n",
      "38\n",
      "39\n",
      "40\n",
      "41\n",
      "42\n",
      "43\n",
      "44\n",
      "45\n",
      "46\n",
      "47\n",
      "48\n",
      "49\n",
      "50\n",
      "51\n",
      "None\n"
     ]
    }
   ],
   "source": [
    "\n",
    "import csv\n",
    "def display_data(file_name,n):\n",
    "    with open(file_name,'r')as csv_file:\n",
    "        csv_reader=csv.reader(csv_file,delimiter=',')\n",
    "        line_count=0\n",
    "        for row in csv_reader:\n",
    "            if line_count==0:\n",
    "                print(row[n])\n",
    "                line_count+=1\n",
    "            else:\n",
    "                print(row[n])\n",
    "                line_count+=1      \n",
    "file_name=input(\"Enter File Name : \")\n",
    "number=input(\"Enter Column Number :\")\n",
    "n=(int(number))\n",
    "print(display_data(file_name,n))"
   ]
  },
  {
   "cell_type": "markdown",
   "metadata": {
    "deletable": false
   },
   "source": [
    "<p style=\"color:red; font-weight:bold; font-size:xx-small\">MARK: __%</p>\n",
    "<p style=\"color:red; font-weight:bold; font-size:xx-small\">FEEDBACK: </p>"
   ]
  },
  {
   "cell_type": "markdown",
   "metadata": {
    "deletable": false
   },
   "source": [
    "### Requirement FR6 - Develop a function to read CSV data from a file into memory"
   ]
  },
  {
   "cell_type": "code",
   "execution_count": 417,
   "metadata": {},
   "outputs": [
    {
     "name": "stdout",
     "output_type": "stream",
     "text": [
      "Enter File Name:task1.csv\n",
      "{'Hydropower': ['0.117', '41.64945459', '17.26791', '37.52781287', '1.76795', '0.885632595', '0.45726487', '0.284810423', '387.6868063', '5.125584584', '244.839096', '387.2508762', '23.14438369', '1202.43', '56.64701407', '7.512550207', '0', '1.6272', '0.016454789', '20.69612073', '13.48338', '0.015617162', '38.93203591', '13.27777778', '64.2234218', '16.9', '5.720179713', '0', '0.221', '13.81099543', '139.6678322', '16.4112', '10.77', '3.1074588', '0.694087982', '0.0245', '45.85205715', '80.997', '10.3295118', '0', '2.433342329', '0.45', '0.094557415', '1.791368', '24.17649672', '32.39511459', '1.6934', '0.072348', '26.32037732', '138.4962175', '0', '62.91198244', '35.20305729', '2.255678699', '1.288541272', '0.0165', '69.46684307', '1.852952842', '35.99700727', '30.76868807', '9.383758', '1.971', '12.346', '0', '17.56396055', '190.21311', '0', '0', '3.591', '4.712487886', '0.914864856', '2.920390756', '35.19825724', '6.369370161', '61.91687566', '34.80394017', '4.4661', '7.597013', '0', '59.51828075', '0', '9.900734781', '0', '5.464660531', '288.7063404', '6.868202', '72.08394993', '80.70625435'], 'Solar': ['0.603', '0.108128528', '12.081099', '1.578641473', '0.03926', '0.299208359', '0.134485968', '3.971724224', '3.137078404', '1.103538835', '0.881300118', '3.5462509', '5.118720829', '177.5', '0.011999821', '0.073591668', '0.19183', '2.3386', '0.952973', '0.037991538', '1.035739071', '0.012679515', '0.441810565', '0.1622', '10.15871272', '46.164', '3.791092002', '0.000961', '0.588876056', '0', '30.73240318', '0.01836', '0.037698887', '0.057143443', '0.022173967', '1.793230515', '23.23072906', '71.6883359', '0.1146904', '0.088143148', '0.001263953', '0.08', '0.117480937', '0.022788', '0.459692933', '2.2428', '0.9502', '3.2012', '0.098244292', '0.064488547', '0.013718674', '0.585723529', '0.01484375', '0.697743206', '3.020039802', '0.111623598', '0.675171297', '0.128029166', '2.12332226', '0.745192715', '1.249117', '0.299', '1.02', '0.009423834', '1.674', '0.57106', '0.154871783', '0.283982555', '0.585', '0.253621', '4.935234819', '9.349876912', '12.52057273', '0.205337811', '0.373100151', '1.957371429', '2.733', '4.719656655', '0.003989071', '7.890694078', '0.00696', '1.286493457', '0.9468835', '12.92181535', '97.11818182', '0', '0.010008089', '0.080231508'], 'Wind': ['0.01', '1.412699784', '16.266484', '5.900014713', '0.0822', '0.005086066', '0.117978175', '7.468573702', '48.47990705', '1.378292235', '0.977082975', '32.17005152', '3.688710149', '366', '0.043437355', '1.379085419', '0.22061', '0.6093', '13.89880328', '0.080257771', '2.438966811', '0.633888557', '0.531134615', '5.857', '28.16738103', '111.59', '6.300269103', '0.000825', '0.608', '0.004365699', '60.31116', '0.198', '0.361973742', '0', '8.390989769', '0.105269485', '17.47251773', '6.789652', '0.5412648', '0.017452186', '0.123287671', '1.145', '0.307147387', '0.097338', '0', '12.62920683', '3.8407', '10.549225', '2.046003874', '3.875881', '0', '0.497064956', '0.0079', '1.428156269', '0.574940541', '0.453', '4.80031359', '0', '1.72268087', '1.493633864', '1.152924', '12.845', '12.657', '0', '6.497', '0.22774', '0', '0', '0.005', '0.006159', '6.894765181', '2.40369047', '50.83600814', '0.305662189', '16.81339144', '0.133', '1.6794', '0.76415852', '0', '19.825697', '0', '1.1274', '0.00075', '57.11571962', '277.7291061', '0', '0', '0.326664064'], 'Other': ['0', '2.29693941', '3.539346', '4.763252129', '0.0811', '0.008019927', '0.109149431', '5.427544126', '52.88998503', '0.496261903', '0.679177831', '9.588635536', '6.737367486', '90.72346175', '2.088838157', '0.682716361', '0.05136', '4.7285', '6.119796142', '0.427967651', '0', '1.369850244', '0.23331662', '12.86168421', '8.521197318', '51.437', '0.298303335', '0.100724044', '2.371182482', '6.009414916', '30.45869682', '14.5368', '0.021740437', '0', '1.242427268', '0.115', '25.31219835', '33.6554308', '0.0024284', '0', '0.962146042', '0.47', '0.226101964', '0.05405', '1.004339878', '6.480283932', '0', '4.875860296', '8.320907599', '0.178266653', '0', '0.163131005', '0.022', '1.39699069', '0.0041', '', '2.647315578', '0.222533905', '1.667658529', '0.674414968', '11.540128', '6.331', '3.439', '0.114486339', '0.4617102', '0.4645', '0', '0.903', '1.419478261', '0.28827567', '0.530431005', '10.1747942', '7.378921565', '0.11339364', '11.85871366', '1.974071402', '2.01435', '12.31650175', '0', '9.983786807', '0', '0.218506543', '0.005983607', '35.58660245', '83.67703684', '0', '0', '0.060833333']}\n"
     ]
    },
    {
     "data": {
      "text/plain": [
       "'               \\nimport csv\\n \\n# open the file in read mode\\nfilename = open(\\'task1.csv\\', \\'r\\')\\n \\n# creating dictreader object\\nfile = csv.DictReader(filename)\\n \\n# creating empty lists\\nHydropower = []\\nSolar = []\\nWind = []\\nOther=[]\\n# iterating over each row and append\\n# values to empty list\\nfor col in file:\\n    Hydropower.append(col[\\'Hydropower\\'])\\n    Solar.append(col[\\'Solar\\'])\\n    Wind.append(col[\\'Wind\\'])\\n    Other.append(col[\\'Other\\'])\\n \\n# printing lists\\nprint(\"Hydropower:\", Hydropower)\\nprint(\"Solar:\", Solar)\\nprint(\"Wind:\", Wind)\\nprint(\"Other:\", Other)\\n'"
      ]
     },
     "execution_count": 417,
     "metadata": {},
     "output_type": "execute_result"
    }
   ],
   "source": [
    "import csv\n",
    "def display_data(file_name):\n",
    "     with open(file_name, 'r') as csv_file:\n",
    "            #read from csv line by line, rstrip helps to remove '\\n' at the end of line\n",
    "            lines = [line.rstrip() for line in csv_file] \n",
    "     dictinary={}\n",
    "     for num in range(len(lines[0].split(','))):\n",
    "            line_number=0\n",
    "            column_name=\"\"\n",
    "            list=[]\n",
    "            for line in lines:\n",
    "                if line_number==0:\n",
    "                    words = line.split(',')#get each item in one line\n",
    "                    column_name=words[num]\n",
    "                    \n",
    "                else:\n",
    "                    words = line.split(',')#get each item in one line\n",
    "                    list.append(words[num])\n",
    "                line_number=2\n",
    "            dictinary[column_name]=list;\n",
    "            \n",
    "     return dictinary\n",
    "file_name = input(\"Enter File Name:\")  \n",
    "dictinary=display_data(file_name)\n",
    "print(dictinary)\n",
    "\n",
    "'''               \n",
    "import csv\n",
    " \n",
    "# open the file in read mode\n",
    "filename = open('task1.csv', 'r')\n",
    " \n",
    "# creating dictreader object\n",
    "file = csv.DictReader(filename)\n",
    " \n",
    "# creating empty lists\n",
    "Hydropower = []\n",
    "Solar = []\n",
    "Wind = []\n",
    "Other=[]\n",
    "# iterating over each row and append\n",
    "# values to empty list\n",
    "for col in file:\n",
    "    Hydropower.append(col['Hydropower'])\n",
    "    Solar.append(col['Solar'])\n",
    "    Wind.append(col['Wind'])\n",
    "    Other.append(col['Other'])\n",
    " \n",
    "# printing lists\n",
    "print(\"Hydropower:\", Hydropower)\n",
    "print(\"Solar:\", Solar)\n",
    "print(\"Wind:\", Wind)\n",
    "print(\"Other:\", Other)\n",
    "'''\n",
    "\n"
   ]
  },
  {
   "cell_type": "markdown",
   "metadata": {
    "deletable": false
   },
   "source": [
    "\n",
    "<p style=\"color:red; font-weight:bold; font-size:xx-small\">MARK: __%</p>\n",
    "<p style=\"color:red; font-weight:bold; font-size:xx-small\">FEEDBACK: </p>"
   ]
  },
  {
   "cell_type": "markdown",
   "metadata": {
    "deletable": false
   },
   "source": [
    "### Requirement FR7 - Develop a function to generate a set of statistics for a given data file"
   ]
  },
  {
   "cell_type": "code",
   "execution_count": 462,
   "metadata": {},
   "outputs": [
    {
     "name": "stdout",
     "output_type": "stream",
     "text": [
      "stats: ['count', 'Mean', 'Stdev', 'Min', '25th', '50th', '75th']\n",
      "hydropower :  [88, 48.821284107874995, 22.821284107874995, 0]\n",
      "Solar :  []\n",
      "Wind :  []\n",
      "Other :  []\n"
     ]
    }
   ],
   "source": [
    "import csv\n",
    "with open(\"task1.csv\") as fin:\n",
    "    headerline = fin.readline()\n",
    "    def heading(h):\n",
    "        list=[\"count\",\"Mean\",\"Stdev\",\"Min\",\"25th\",\"50th\",\"75th\"]\n",
    "        return list\n",
    "    print(\"stats:\",heading(list))\n",
    "    \n",
    "    def hydropower(value):\n",
    "        hp=[]\n",
    "        counthp=0\n",
    "        meanhp=0\n",
    "        len=0\n",
    "        for row in csv.reader(fin):\n",
    "            #count\n",
    "            counthp=counthp+1\n",
    "            \n",
    "            #mean\n",
    "            len+=1\n",
    "            meanhp+=float(row[0])\n",
    "            mean_hp=meanhp/len\n",
    "           \n",
    "            #stdev\n",
    "            m_of_sqrd = (i-mean_hp)**2\n",
    "            sd_hp=m_of_sqrd ** 0.5\n",
    "            \n",
    "            #Min\n",
    "            \n",
    "            Min = 0\n",
    "            if float(row[0]) < float(Min):\n",
    "                Min=row[0]\n",
    "        \n",
    "            hp=[counthp,mean_hp,sd_hp,Min]\n",
    "        return hp\n",
    "    def solar(value):\n",
    "        \n",
    "        s=[]\n",
    "        counts=0\n",
    "        for row in csv.reader(fin):\n",
    "            counts=counts+1\n",
    "            s=[counts]\n",
    "        return s\n",
    "    \n",
    "    \n",
    "    def wind(value):\n",
    "        w=[]\n",
    "        counts=0\n",
    "        for row in csv.reader(fin):\n",
    "            counts=counts+1\n",
    "            w=[counts]\n",
    "        return w\n",
    "    \n",
    "    \n",
    "    def other(value):\n",
    "        o=[]\n",
    "        counts=0\n",
    "        for row in csv.reader(fin):\n",
    "            counts=counts+1\n",
    "            o=[counts]\n",
    "        return o\n",
    "   \n",
    "\n",
    "    print(\"hydropower : \",hydropower(value))\n",
    "    print(\"Solar : \",solar(value))\n",
    "    print(\"Wind : \",wind(value))\n",
    "    print(\"Other : \",other(value))"
   ]
  },
  {
   "cell_type": "code",
   "execution_count": null,
   "metadata": {},
   "outputs": [],
   "source": []
  },
  {
   "cell_type": "raw",
   "metadata": {
    "deletable": false
   },
   "source": [
    "<p style=\"color:red; font-weight:bold; font-size:xx-small\">MARK: __%</p>\n",
    "<p style=\"color:red; font-weight:bold; font-size:xx-small\">FEEDBACK: </p>"
   ]
  },
  {
   "cell_type": "markdown",
   "metadata": {
    "deletable": false
   },
   "source": [
    "### Requirement FR8 - Develop a function to print a custom table"
   ]
  },
  {
   "cell_type": "code",
   "execution_count": 461,
   "metadata": {
    "scrolled": true
   },
   "outputs": [
    {
     "name": "stdout",
     "output_type": "stream",
     "text": [
      "stats: ['count', 'Mean', 'Stdev', 'Min', '25th', '50th', '75th']\n",
      "88\n",
      "0\n"
     ]
    }
   ],
   "source": [
    "import csv\n",
    "with open(\"task1.csv\") as fin:\n",
    "    headerline = fin.readline()\n",
    "    def heading(h):\n",
    "        list=[\"count\",\"Mean\",\"Stdev\",\"Min\",\"25th\",\"50th\",\"75th\"]\n",
    "        return list\n",
    "    print(\"stats:\",heading(list))\n",
    "    \n",
    "    def count(value,n):\n",
    "        count=0\n",
    "        for row in csv.reader(fin):\n",
    "            #count\n",
    "            count=count+1\n",
    "        print(count)\n",
    "   \n",
    "    \n",
    "    def mean(value,n):\n",
    "        mean_hp=0        \n",
    "        for row in csv.reader(fin):\n",
    "            len+=1\n",
    "            meanhp+=float(row[n])\n",
    "            mean_hp=meanhp/len\n",
    "        print(mean_hp)\n",
    "    count(value,float(row[0]))\n",
    "    mean(value,float(row[0]))\n",
    "    #print(\"Solar : \",count(value,float(row[1])))\n",
    "    #print(\"Wind : \",count(value,float(row[2])))\n",
    "    #print(\"Other : \",count(value,float(row[3])))"
   ]
  },
  {
   "cell_type": "markdown",
   "metadata": {
    "deletable": false
   },
   "source": [
    "# <p style=\"color:red; font-weight:bold; font-size:xx-small\">MARK: __%</p>\n",
    "<p style=\"color:red; font-weight:bold; font-size:xx-small\">FEEDBACK: </p>"
   ]
  },
  {
   "cell_type": "markdown",
   "metadata": {
    "deletable": false
   },
   "source": [
    "# Coding Standards\n",
    "<p style=\"color:red; font-weight:bold; font-size:xx-small\">MARK: __%</p>\n",
    "<p style=\"color:red; font-weight:bold; font-size:xx-small\">FEEDBACK: </p>"
   ]
  },
  {
   "cell_type": "markdown",
   "metadata": {
    "deletable": false
   },
   "source": [
    "# Process Development Report for Task 1\n"
   ]
  },
  {
   "cell_type": "markdown",
   "metadata": {},
   "source": [
    "Add text here"
   ]
  },
  {
   "cell_type": "markdown",
   "metadata": {
    "deletable": false
   },
   "source": [
    "<p style=\"color:red; font-weight:bold; font-size:xx-small\">MARK: __%</p>\n",
    "<p style=\"color:red; font-weight:bold; font-size:xx-small\">FEEDBACK: </p>"
   ]
  }
 ],
 "metadata": {
  "kernelspec": {
   "display_name": "Python 3",
   "language": "python",
   "name": "python3"
  },
  "language_info": {
   "codemirror_mode": {
    "name": "ipython",
    "version": 3
   },
   "file_extension": ".py",
   "mimetype": "text/x-python",
   "name": "python",
   "nbconvert_exporter": "python",
   "pygments_lexer": "ipython3",
   "version": "3.8.5"
  }
 },
 "nbformat": 4,
 "nbformat_minor": 4
}
